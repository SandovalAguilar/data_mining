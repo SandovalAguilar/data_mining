{
 "cells": [
  {
   "cell_type": "markdown",
   "metadata": {},
   "source": [
    "# Nube de Palabras <img src=\"/Users/sandoval/Documents/data_mining/project/activities/input/fcfm.png\" style=\"width: 80px;\" style=\"float: right;\"  align=\"right\"  margin-right= \"50px\"/>\n",
    "\n",
    "**Actividad 9**\n",
    "\n",
    "N34 A2024 Minería de Datos\n",
    "\n",
    "M.Sc. José Anastacio Hernández Saldaña\n",
    "\n",
    "Ismael Sandoval Aguilar \n",
    "\n",
    "23 de noviembre de 2024"
   ]
  },
  {
   "cell_type": "code",
   "execution_count": null,
   "metadata": {
    "vscode": {
     "languageId": "plaintext"
    }
   },
   "outputs": [],
   "source": []
  }
 ],
 "metadata": {
  "language_info": {
   "name": "python"
  }
 },
 "nbformat": 4,
 "nbformat_minor": 2
}
