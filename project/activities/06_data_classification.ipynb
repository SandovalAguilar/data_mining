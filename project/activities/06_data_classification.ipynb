{
 "cells": [
  {
   "cell_type": "markdown",
   "metadata": {},
   "source": [
    "# Clasificación de Datos <img src=\"/Users/sandoval/Documents/data_mining/project/activities/input/fcfm.png\" style=\"width: 80px;\" style=\"float: right;\"  align=\"right\"  margin-right= \"50px\"/>\n",
    "\n",
    "**Actividad 6**\n",
    "\n",
    "N34 A2024 Minería de Datos\n",
    "\n",
    "M.Sc. José Anastacio Hernández Saldaña\n",
    "\n",
    "Ismael Sandoval Aguilar \n",
    "\n",
    "23 de noviembre de 2024"
   ]
  },
  {
   "cell_type": "code",
   "execution_count": 29,
   "metadata": {},
   "outputs": [],
   "source": [
    "import pandas as pd\n",
    "from sklearn.model_selection import train_test_split\n",
    "from sklearn.neighbors import KNeighborsClassifier\n",
    "from sklearn.preprocessing import LabelEncoder, StandardScaler\n",
    "from sklearn.metrics import classification_report, confusion_matrix\n",
    "from utils import path_loader as p"
   ]
  },
  {
   "cell_type": "code",
   "execution_count": 30,
   "metadata": {},
   "outputs": [
    {
     "name": "stdout",
     "output_type": "stream",
     "text": [
      "CSV File loaded succesfully!\n",
      "There are 18249 rows and 13 columns\n"
     ]
    }
   ],
   "source": [
    "# Load csv file\n",
    "try:\n",
    "    df = pd.read_csv(p.generate_file_path(\n",
    "        file_name='avocado_prices_processed', file_extension='csv', directory='output'))\n",
    "\n",
    "    n_row, n_col = df.shape\n",
    "    print(f'CSV File loaded succesfully!\\nThere are {n_row} rows and {n_col} columns')\n",
    "except Exception as e:\n",
    "    print(f'Something wrong happended!: {e}')"
   ]
  },
  {
   "cell_type": "code",
   "execution_count": 31,
   "metadata": {},
   "outputs": [
    {
     "data": {
      "text/html": [
       "<div>\n",
       "<style scoped>\n",
       "    .dataframe tbody tr th:only-of-type {\n",
       "        vertical-align: middle;\n",
       "    }\n",
       "\n",
       "    .dataframe tbody tr th {\n",
       "        vertical-align: top;\n",
       "    }\n",
       "\n",
       "    .dataframe thead th {\n",
       "        text-align: right;\n",
       "    }\n",
       "</style>\n",
       "<table border=\"1\" class=\"dataframe\">\n",
       "  <thead>\n",
       "    <tr style=\"text-align: right;\">\n",
       "      <th></th>\n",
       "      <th>Predicted: Conventional</th>\n",
       "      <th>Predicted: Organic</th>\n",
       "    </tr>\n",
       "  </thead>\n",
       "  <tbody>\n",
       "    <tr>\n",
       "      <th>Actual: Conventional</th>\n",
       "      <td>1780</td>\n",
       "      <td>40</td>\n",
       "    </tr>\n",
       "    <tr>\n",
       "      <th>Actual: Organic</th>\n",
       "      <td>34</td>\n",
       "      <td>1796</td>\n",
       "    </tr>\n",
       "  </tbody>\n",
       "</table>\n",
       "</div>"
      ],
      "text/plain": [
       "                      Predicted: Conventional  Predicted: Organic\n",
       "Actual: Conventional                     1780                  40\n",
       "Actual: Organic                            34                1796"
      ]
     },
     "execution_count": 31,
     "metadata": {},
     "output_type": "execute_result"
    }
   ],
   "source": [
    "# Preprocessing\n",
    "df['type'] = LabelEncoder().fit_transform(df['type'])  # Encoding 'type' as target variable (0 or 1)\n",
    "X = df[['total_volume', '4046', '4225', '4770', 'total_bags', 'small_bags', 'large_bags', 'x_large_bags']]  # Features\n",
    "y = df['type']  # Target variable\n",
    "\n",
    "# Scaling the features for KNN\n",
    "scaler = StandardScaler()\n",
    "X_scaled = scaler.fit_transform(X)\n",
    "\n",
    "# Splitting the dataset into training and testing sets\n",
    "X_train, X_test, y_train, y_test = train_test_split(X_scaled, y, test_size=0.2, random_state=42)\n",
    "\n",
    "# Creating and testing the KNN model\n",
    "knn = KNeighborsClassifier(n_neighbors=5)  # Using k=5\n",
    "knn.fit(X_train, y_train)\n",
    "y_pred = knn.predict(X_test)\n",
    "\n",
    "# Evaluation metrics\n",
    "conf_matrix = confusion_matrix(y_test, y_pred)\n",
    "class_report = classification_report(y_test, y_pred)\n",
    "\n",
    "# Reformulating the classification report\n",
    "formatted_conf_matrix = pd.DataFrame(\n",
    "    conf_matrix, \n",
    "    index=[\"Actual: Conventional\", \"Actual: Organic\"], \n",
    "    columns=[\"Predicted: Conventional\", \"Predicted: Organic\"]\n",
    ")\n",
    "\n",
    "formatted_class_report = classification_report(\n",
    "    y_test, y_pred, target_names=[\"Conventional\", \"Organic\"], output_dict=True\n",
    ")\n",
    "\n",
    "formatted_class_report_df = pd.DataFrame(formatted_class_report).transpose()\n",
    "\n",
    "formatted_conf_matrix "
   ]
  },
  {
   "cell_type": "code",
   "execution_count": 32,
   "metadata": {},
   "outputs": [
    {
     "data": {
      "text/html": [
       "<div>\n",
       "<style scoped>\n",
       "    .dataframe tbody tr th:only-of-type {\n",
       "        vertical-align: middle;\n",
       "    }\n",
       "\n",
       "    .dataframe tbody tr th {\n",
       "        vertical-align: top;\n",
       "    }\n",
       "\n",
       "    .dataframe thead th {\n",
       "        text-align: right;\n",
       "    }\n",
       "</style>\n",
       "<table border=\"1\" class=\"dataframe\">\n",
       "  <thead>\n",
       "    <tr style=\"text-align: right;\">\n",
       "      <th></th>\n",
       "      <th>precision</th>\n",
       "      <th>recall</th>\n",
       "      <th>f1-score</th>\n",
       "      <th>support</th>\n",
       "    </tr>\n",
       "  </thead>\n",
       "  <tbody>\n",
       "    <tr>\n",
       "      <th>Conventional</th>\n",
       "      <td>0.981257</td>\n",
       "      <td>0.978022</td>\n",
       "      <td>0.979637</td>\n",
       "      <td>1820.000000</td>\n",
       "    </tr>\n",
       "    <tr>\n",
       "      <th>Organic</th>\n",
       "      <td>0.978214</td>\n",
       "      <td>0.981421</td>\n",
       "      <td>0.979815</td>\n",
       "      <td>1830.000000</td>\n",
       "    </tr>\n",
       "    <tr>\n",
       "      <th>accuracy</th>\n",
       "      <td>0.979726</td>\n",
       "      <td>0.979726</td>\n",
       "      <td>0.979726</td>\n",
       "      <td>0.979726</td>\n",
       "    </tr>\n",
       "    <tr>\n",
       "      <th>macro avg</th>\n",
       "      <td>0.979735</td>\n",
       "      <td>0.979721</td>\n",
       "      <td>0.979726</td>\n",
       "      <td>3650.000000</td>\n",
       "    </tr>\n",
       "    <tr>\n",
       "      <th>weighted avg</th>\n",
       "      <td>0.979731</td>\n",
       "      <td>0.979726</td>\n",
       "      <td>0.979726</td>\n",
       "      <td>3650.000000</td>\n",
       "    </tr>\n",
       "  </tbody>\n",
       "</table>\n",
       "</div>"
      ],
      "text/plain": [
       "              precision    recall  f1-score      support\n",
       "Conventional   0.981257  0.978022  0.979637  1820.000000\n",
       "Organic        0.978214  0.981421  0.979815  1830.000000\n",
       "accuracy       0.979726  0.979726  0.979726     0.979726\n",
       "macro avg      0.979735  0.979721  0.979726  3650.000000\n",
       "weighted avg   0.979731  0.979726  0.979726  3650.000000"
      ]
     },
     "execution_count": 32,
     "metadata": {},
     "output_type": "execute_result"
    }
   ],
   "source": [
    "formatted_class_report_df"
   ]
  }
 ],
 "metadata": {
  "kernelspec": {
   "display_name": "venv",
   "language": "python",
   "name": "python3"
  },
  "language_info": {
   "codemirror_mode": {
    "name": "ipython",
    "version": 3
   },
   "file_extension": ".py",
   "mimetype": "text/x-python",
   "name": "python",
   "nbconvert_exporter": "python",
   "pygments_lexer": "ipython3",
   "version": "3.11.5"
  }
 },
 "nbformat": 4,
 "nbformat_minor": 2
}
